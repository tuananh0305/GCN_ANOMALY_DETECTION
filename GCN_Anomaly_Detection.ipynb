{
 "cells": [
  {
   "cell_type": "markdown",
   "metadata": {},
   "source": [
    "# GRAPH CONVOLUTIONAL NETWORKS FOR ANOMALY DETECTION"
   ]
  },
  {
   "cell_type": "code",
   "execution_count": 456,
   "metadata": {},
   "outputs": [],
   "source": [
    "import numpy as np\n",
    "import pandas as pd\n",
    "import matplotlib.pyplot as plt\n",
    "\n",
    "from sklearn import model_selection, preprocessing\n",
    "from sklearn.model_selection import train_test_split\n",
    "from sklearn.metrics import roc_auc_score\n",
    "from sklearn.metrics import roc_curve\n",
    "\n",
    "import torch\n",
    "import torch.nn as nn\n",
    "import torch.nn.functional as F\n",
    "import torch.optim as optim\n",
    "from torch.nn.parameter import Parameter\n",
    "\n",
    "import time\n",
    "import math\n",
    "import random"
   ]
  },
  {
   "cell_type": "code",
   "execution_count": 457,
   "metadata": {},
   "outputs": [],
   "source": [
    "manual_seed=7"
   ]
  },
  {
   "cell_type": "markdown",
   "metadata": {},
   "source": [
    "## Loading Dataset\n",
    "Cora dataset:\n",
    "\n",
    "Nodes represent research papers\n",
    "- Each paper has a feature vector that encodes information about the vocabulary used in the paper by using Bag of Words method.\n",
    "- Each paper has a subject as a class that indicates the field of the paper.\n",
    "\n",
    "Edges represent citation relationships between the papers (directed connection)\n",
    "\n",
    "Dataset has 2708 papers (nodes) and 5429 citations (edges). \n",
    "\n",
    "The dictionary consists of 1433 unique words used to encode node feature vector."
   ]
  },
  {
   "cell_type": "code",
   "execution_count": 458,
   "metadata": {},
   "outputs": [],
   "source": [
    "# loading node information\n",
    "feature_names = [\"w_{}\".format(ii) for ii in range(1433)]\n",
    "column_names =  feature_names + [\"subject\"]\n",
    "node_data = pd.read_csv('./cora/cora.content', sep='\\t', names=column_names)"
   ]
  },
  {
   "cell_type": "markdown",
   "metadata": {},
   "source": [
    "- num_node:    the number of node in dataset\n",
    "- num_feature: the number of feature in a node\n",
    "- node_index:  the node's Id list"
   ]
  },
  {
   "cell_type": "code",
   "execution_count": 459,
   "metadata": {},
   "outputs": [
    {
     "name": "stdout",
     "output_type": "stream",
     "text": [
      "The number of node: 2708\n",
      "The number of feature: 1433\n"
     ]
    }
   ],
   "source": [
    "num_node, num_feature = node_data.shape[0], node_data.shape[1]-1\n",
    "node_index = np.array(node_data.index)\n",
    "print(\"The number of node: {}\".format(num_node))\n",
    "print(\"The number of feature: {}\".format(num_feature))"
   ]
  },
  {
   "cell_type": "code",
   "execution_count": 460,
   "metadata": {},
   "outputs": [
    {
     "name": "stdout",
     "output_type": "stream",
     "text": [
      "The number of edge: 5429\n"
     ]
    }
   ],
   "source": [
    "# loading edge information\n",
    "edge_list = pd.read_csv('./cora/cora.cites', sep='\\t', names=['target', 'source'])\n",
    "print(\"The number of edge: {}\".format(edge_list.shape[0]))"
   ]
  },
  {
   "cell_type": "markdown",
   "metadata": {},
   "source": [
    "## Classes Distribution\n",
    "\n",
    "Class is the subject that a paper belongs to. There are 7 classes."
   ]
  },
  {
   "cell_type": "code",
   "execution_count": 461,
   "metadata": {},
   "outputs": [
    {
     "data": {
      "text/plain": [
       "Neural_Networks           818\n",
       "Probabilistic_Methods     426\n",
       "Genetic_Algorithms        418\n",
       "Theory                    351\n",
       "Case_Based                298\n",
       "Reinforcement_Learning    217\n",
       "Rule_Learning             180\n",
       "Name: subject, dtype: int64"
      ]
     },
     "execution_count": 461,
     "metadata": {},
     "output_type": "execute_result"
    }
   ],
   "source": [
    "node_data['subject'].value_counts()"
   ]
  },
  {
   "cell_type": "code",
   "execution_count": 462,
   "metadata": {},
   "outputs": [
    {
     "data": {
      "text/plain": [
       "([0, 1, 2, 3, 4, 5, 6], <a list of 7 Text xticklabel objects>)"
      ]
     },
     "execution_count": 462,
     "metadata": {},
     "output_type": "execute_result"
    },
    {
     "data": {
      "image/png": "[encoded data removed]",
      "text/plain": [
       "<Figure size 360x360 with 1 Axes>"
      ]
     },
     "metadata": {
      "needs_background": "light"
     },
     "output_type": "display_data"
    }
   ],
   "source": [
    "# plot distribution of subject\n",
    "subject_count = node_data['subject'].value_counts()\n",
    "\n",
    "plt.figure(figsize=(5,5))\n",
    "plt.bar(subject_count.index, subject_count.values)\n",
    "plt.xlabel('Subject')\n",
    "plt.ylabel('Number of node')\n",
    "plt.xticks(rotation=90)"
   ]
  },
  {
   "cell_type": "markdown",
   "metadata": {},
   "source": [
    "## Distribution of the number of used word in a node feature vector"
   ]
  },
  {
   "cell_type": "code",
   "execution_count": 463,
   "metadata": {},
   "outputs": [
    {
     "data": {
      "text/plain": [
       "Text(0, 0.5, 'Frequency')"
      ]
     },
     "execution_count": 463,
     "metadata": {},
     "output_type": "execute_result"
    },
    {
     "data": {
      "image/png": "[encoded data removed]",
      "text/plain": [
       "<Figure size 432x288 with 1 Axes>"
      ]
     },
     "metadata": {
      "needs_background": "light"
     },
     "output_type": "display_data"
    }
   ],
   "source": [
    "# calculate the number of used word in a node, then calculate distrubution\n",
    "ax = node_data[feature_names].sum(axis=1).plot(kind='hist')\n",
    "ax.set_xlabel(\"Length of feature node\")\n",
    "ax.set_ylabel(\"Frequency\")"
   ]
  },
  {
   "cell_type": "markdown",
   "metadata": {},
   "source": [
    "## Labeling anomaly and normal instance\n",
    "we create a binary class problem by regarding the smallest class ('Rule_Learning') as anomalous and the remaining classes as normal.\n",
    "\n",
    "we create a new column 'label' "
   ]
  },
  {
   "cell_type": "code",
   "execution_count": 464,
   "metadata": {},
   "outputs": [
    {
     "data": {
      "text/plain": [
       "normal     2528\n",
       "anomaly     180\n",
       "Name: label, dtype: int64"
      ]
     },
     "execution_count": 464,
     "metadata": {},
     "output_type": "execute_result"
    }
   ],
   "source": [
    "node_data['label'] = node_data['subject'].apply(lambda x: 'anomaly' if x == 'Rule_Learning' else 'normal')\n",
    "node_data['label'].value_counts()"
   ]
  },
  {
   "cell_type": "markdown",
   "metadata": {},
   "source": [
    "We need a semi supervised problem to test our method, the ratio of\n",
    "labeled instances and all instances is 10%. Therefore, we will randomly assigned 90% labeled instances into unlabeled instances.\n"
   ]
  },
  {
   "cell_type": "code",
   "execution_count": 465,
   "metadata": {},
   "outputs": [],
   "source": [
    "# def f (x):\n",
    "#     if random.random()<0.9:\n",
    "#         return None\n",
    "#     else:\n",
    "#         return x\n",
    "\n",
    "# node_data['label'] = node_data['label'].apply(f)\n",
    "# node_data['label'].value_counts()\n",
    "\n",
    "indices = np.arange(num_node)\n",
    "unlabeled_data, labeled_data, index_unlabeled, index_labeled = train_test_split(node_data, indices, test_size=0.1, stratify=node_data['label'], random_state=123)"
   ]
  },
  {
   "cell_type": "code",
   "execution_count": 466,
   "metadata": {},
   "outputs": [
    {
     "name": "stderr",
     "output_type": "stream",
     "text": [
      "/home/tuananh305/MALIS/pytorch-env/lib/python3.6/site-packages/ipykernel_launcher.py:3: SettingWithCopyWarning: \n",
      "A value is trying to be set on a copy of a slice from a DataFrame\n",
      "\n",
      "See the caveats in the documentation: https://pandas.pydata.org/pandas-docs/stable/user_guide/indexing.html#returning-a-view-versus-a-copy\n",
      "  This is separate from the ipykernel package so we can avoid doing imports until\n"
     ]
    }
   ],
   "source": [
    "# set label of instances to 'unknown' as unlabeled instances\n",
    "for idx in index_unlabeled:\n",
    "    node_data['label'][node_index[idx]] = 'unknown'"
   ]
  },
  {
   "cell_type": "code",
   "execution_count": 467,
   "metadata": {},
   "outputs": [
    {
     "data": {
      "text/plain": [
       "unknown    2437\n",
       "normal      253\n",
       "anomaly      18\n",
       "Name: label, dtype: int64"
      ]
     },
     "execution_count": 467,
     "metadata": {},
     "output_type": "execute_result"
    }
   ],
   "source": [
    "node_data['label'].value_counts()"
   ]
  },
  {
   "cell_type": "markdown",
   "metadata": {},
   "source": [
    "## Train Test Splitting\n",
    "\n",
    "Using train_test_split function:\n",
    "\n",
    "- Split the dataset into train set and test set (80/20)\n",
    "\n",
    "- Split the train set into train set and validation set (80/20)\n",
    "\n",
    "Then save the index of labeled instances in train set, validation set and test set that used in training phase and evaluation"
   ]
  },
  {
   "cell_type": "code",
   "execution_count": 468,
   "metadata": {},
   "outputs": [],
   "source": [
    "indices = np.arange(num_node)\n",
    "train_data, test_data, index_train, index_test = train_test_split(node_data, indices, test_size=0.2, stratify=node_data['label'], random_state=manual_seed)"
   ]
  },
  {
   "cell_type": "code",
   "execution_count": 469,
   "metadata": {},
   "outputs": [],
   "source": [
    "train_data, val_data, index_train, index_val = train_test_split(train_data, index_train, test_size=0.2, stratify=train_data['label'], random_state=manual_seed)"
   ]
  },
  {
   "cell_type": "code",
   "execution_count": 470,
   "metadata": {},
   "outputs": [
    {
     "data": {
      "text/plain": [
       "unknown    1558\n",
       "normal      162\n",
       "anomaly      12\n",
       "Name: label, dtype: int64"
      ]
     },
     "execution_count": 470,
     "metadata": {},
     "output_type": "execute_result"
    }
   ],
   "source": [
    "train_data['label'].value_counts()"
   ]
  },
  {
   "cell_type": "code",
   "execution_count": 471,
   "metadata": {},
   "outputs": [
    {
     "data": {
      "text/plain": [
       "unknown    391\n",
       "normal      40\n",
       "anomaly      3\n",
       "Name: label, dtype: int64"
      ]
     },
     "execution_count": 471,
     "metadata": {},
     "output_type": "execute_result"
    }
   ],
   "source": [
    "val_data['label'].value_counts()"
   ]
  },
  {
   "cell_type": "code",
   "execution_count": 472,
   "metadata": {},
   "outputs": [
    {
     "data": {
      "text/plain": [
       "unknown    488\n",
       "normal      51\n",
       "anomaly      3\n",
       "Name: label, dtype: int64"
      ]
     },
     "execution_count": 472,
     "metadata": {},
     "output_type": "execute_result"
    }
   ],
   "source": [
    "test_data['label'].value_counts()"
   ]
  },
  {
   "cell_type": "markdown",
   "metadata": {},
   "source": [
    "we have:\n",
    "\n",
    "- index_train: the index of train set\n",
    "- index_val: the index of validation set\n",
    "- index_test: the index of test set\n",
    "\n",
    "we want to have the index of normal and anomaly instance for each train set, validation set and test set "
   ]
  },
  {
   "cell_type": "code",
   "execution_count": 473,
   "metadata": {},
   "outputs": [],
   "source": [
    "index_normal_train = []\n",
    "index_anomaly_train = []\n",
    "for i in index_train:\n",
    "    if node_data.iloc[i]['label'] == 'normal':\n",
    "        index_normal_train.append(i)\n",
    "    elif node_data.iloc[i]['label'] == 'anomaly':\n",
    "        index_anomaly_train.append(i)\n",
    "\n",
    "index_normal_val = []\n",
    "index_anomaly_val = []\n",
    "for i in index_val:\n",
    "    if node_data.iloc[i]['label'] == 'normal':\n",
    "        index_normal_val.append(i)\n",
    "    elif node_data.iloc[i]['label'] == 'anomaly':\n",
    "        index_anomaly_val.append(i)\n",
    "        \n",
    "index_normal_test = []\n",
    "index_anomaly_test = []\n",
    "for i in index_test:\n",
    "    if node_data.iloc[i]['label'] == 'normal':\n",
    "        index_normal_test.append(i)\n",
    "    elif node_data.iloc[i]['label'] == 'anomaly':\n",
    "        index_anomaly_test.append(i)\n",
    "        \n",
    "# print(index_normal_train)\n",
    "# print(index_anomaly_train)"
   ]
  },
  {
   "cell_type": "markdown",
   "metadata": {},
   "source": [
    "## Categories classes\n",
    "\n",
    "we category classes as:\n",
    "- anomaly instance: 1\n",
    "- normal instance: 0\n",
    "\n",
    "the unlabeled instances are assigned to -1"
   ]
  },
  {
   "cell_type": "code",
   "execution_count": 474,
   "metadata": {},
   "outputs": [
    {
     "data": {
      "text/plain": [
       "-1    2437\n",
       " 0     253\n",
       " 1      18\n",
       "Name: label, dtype: int64"
      ]
     },
     "execution_count": 474,
     "metadata": {},
     "output_type": "execute_result"
    }
   ],
   "source": [
    "def f(x):\n",
    "    if x == \"anomaly\":\n",
    "        return 1\n",
    "    elif x == \"normal\":\n",
    "        return 0\n",
    "    else:\n",
    "        return -1\n",
    "\n",
    "labels = node_data['label']\n",
    "cat_labels = labels.apply(f)\n",
    "        \n",
    "cat_labels.value_counts()"
   ]
  },
  {
   "cell_type": "code",
   "execution_count": 475,
   "metadata": {},
   "outputs": [],
   "source": [
    "# create torch tensor\n",
    "cat_labels = torch.LongTensor(np.array(cat_labels))\n",
    "features = torch.FloatTensor(np.array(node_data[feature_names]))\n",
    "\n",
    "index_normal_train = torch.LongTensor(index_normal_train)\n",
    "index_anomaly_train = torch.LongTensor(index_anomaly_train)\n",
    "\n",
    "index_normal_val = torch.LongTensor(index_normal_val)\n",
    "index_anomaly_val = torch.LongTensor(index_anomaly_val)\n",
    "\n",
    "index_normal_test = torch.LongTensor(index_normal_test)\n",
    "index_anomaly_test = torch.LongTensor(index_anomaly_test)"
   ]
  },
  {
   "cell_type": "code",
   "execution_count": 495,
   "metadata": {},
   "outputs": [
    {
     "data": {
      "text/plain": [
       "tensor([0, 0, 0, 0, 0, 0, 0, 0, 0, 0, 0, 0, 0, 0, 0, 0, 0, 0, 0, 0, 0, 0, 0, 0,\n",
       "        0, 0, 0, 0, 0, 0, 0, 0, 0, 0, 0, 0, 0, 0, 0, 0, 0, 0, 0, 0, 0, 0, 0, 0,\n",
       "        0, 0, 0])"
      ]
     },
     "execution_count": 495,
     "metadata": {},
     "output_type": "execute_result"
    }
   ],
   "source": [
    "# check index\n",
    "cat_labels[index_normal_test]"
   ]
  },
  {
   "cell_type": "markdown",
   "metadata": {},
   "source": [
    "## Calculate adjacency matrix"
   ]
  },
  {
   "cell_type": "code",
   "execution_count": 477,
   "metadata": {},
   "outputs": [],
   "source": [
    "# mapping the origin node's Id to a new order node's Id that is easier to create the adjacent matrix\n",
    "index_map = {j: i for i, j in enumerate(node_index)}\n",
    "adj = np.zeros((num_node, num_node))\n",
    "\n",
    "# create an undirected adjacent matrix\n",
    "for i in range(edge_list.shape[0]):\n",
    "    u = edge_list['target'][i]\n",
    "    v = edge_list['source'][i]\n",
    "    adj[index_map[u], index_map[v]] = 1\n",
    "    adj[index_map[v], index_map[u]] = 1\n",
    "\n",
    "# plus adjacent matrix with with identity matrix\n",
    "I = np.eye(num_node)\n",
    "adj_tld = adj + I\n",
    "\n",
    "# symmetric normalization\n",
    "rowsum = np.sum(adj_tld, axis=1)\n",
    "r_inv = rowsum ** -0.5\n",
    "r_inv[np.isinf(r_inv)] = 0.    # check devided by 0\n",
    "r_mat_inv = np.diag(r_inv)\n",
    "\n",
    "adj_hat = np.dot( np.dot(r_mat_inv, adj_tld), r_mat_inv)    # r_mat_inv * adj_tld * r_mat_inv\n",
    "\n",
    "adj = torch.FloatTensor(np.array(adj_hat))"
   ]
  },
  {
   "cell_type": "markdown",
   "metadata": {},
   "source": [
    "## Model Architecture\n",
    "\n",
    "The model has one hidden layer of 32 neurons. The output layer has 32 neurons as the embedding space\n",
    "\n",
    "- nfeat  : number of feature in a node\n",
    "- nhid   : number of neurons in hidden layer\n",
    "- nclass : number of classes\n",
    "- weight_in_hid  : weight between input and hidden layer\n",
    "- bias_in_hid    : bias between input and hidden layer\n",
    "- weight_hid_out : weight between hidden and output layer\n",
    "- bias_hid_out   : bias between hidden and output layer"
   ]
  },
  {
   "cell_type": "code",
   "execution_count": 478,
   "metadata": {},
   "outputs": [],
   "source": [
    "class GCN(nn.Module):\n",
    "    def __init__(self, nfeat, nhid, nclass, dropout):\n",
    "        super(GCN, self).__init__()\n",
    "        self.nfeat = nfeat\n",
    "        self.nhid = nhid\n",
    "        self.nclass = nclass\n",
    "        self.dropout = dropout\n",
    "        \n",
    "        # weight and bias between input and hidden layer\n",
    "        self.weight_in_hid = Parameter(torch.FloatTensor(nfeat, nhid))\n",
    "        self.bias_in_hid = Parameter(torch.FloatTensor(nhid))\n",
    "        \n",
    "        # weight and bias between hidden and output layer\n",
    "        self.weight_hid_out = Parameter(torch.FloatTensor(nhid, nclass))\n",
    "        self.bias_hid_out = Parameter(torch.FloatTensor(nclass))\n",
    "        \n",
    "        self.drop_layer = nn.Dropout(p=self.dropout)\n",
    "        \n",
    "        self.reset_parameters()\n",
    "        \n",
    "    def reset_parameters(self):\n",
    "        torch.manual_seed(manual_seed)\n",
    "        # use Glorot weight initialization\n",
    "        stdv_in_hid = math.sqrt(6) / math.sqrt(self.nfeat + self.weight_in_hid.size(1))\n",
    "        self.weight_in_hid.data.uniform_(-stdv_in_hid, stdv_in_hid)\n",
    "        self.bias_in_hid.data.uniform_(-stdv_in_hid, stdv_in_hid)\n",
    "        \n",
    "        stdv_hid_out = math.sqrt(6) / math.sqrt(self.weight_in_hid.size(1) + self.weight_hid_out.size(1))\n",
    "        self.weight_hid_out.data.uniform_(-stdv_hid_out, stdv_hid_out)\n",
    "        self.bias_hid_out.data.uniform_(-stdv_hid_out, stdv_hid_out)\n",
    "        \n",
    "        \n",
    "    def forward(self, x, adj):\n",
    "        o_hidden = torch.mm(x, self.weight_in_hid)\n",
    "        \n",
    "        o_hidden = torch.spmm(adj, o_hidden)\n",
    "        \n",
    "        o_hidden = o_hidden + self.bias_in_hid\n",
    "        \n",
    "        o_hidden = F.relu(o_hidden)\n",
    "        \n",
    "        o_hidden = self.drop_layer(o_hidden)\n",
    "        \n",
    "        o_out = torch.mm(o_hidden, self.weight_hid_out)\n",
    "        \n",
    "        o_out = torch.spmm(adj, o_out)\n",
    "        \n",
    "        o_out = o_out + self.bias_hid_out\n",
    "        \n",
    "        return o_out\n",
    "    \n",
    "model = GCN(nfeat=features.shape[1],\n",
    "            nhid=32,\n",
    "            nclass=32,\n",
    "            dropout=0.5)\n",
    "optimizer = optim.Adam(model.parameters(), lr=0.001)\n",
    "        "
   ]
  },
  {
   "cell_type": "markdown",
   "metadata": {},
   "source": [
    "## Training model"
   ]
  },
  {
   "cell_type": "code",
   "execution_count": 479,
   "metadata": {},
   "outputs": [],
   "source": [
    "import numpy as np\n",
    "import torch\n",
    "\n",
    "class EarlyStopping:\n",
    "    \"\"\"Early stops the training if validation loss doesn't improve after a given patience.\"\"\"\n",
    "    def __init__(self, patience=7, verbose=False, delta=0, path='checkpoint.pt', trace_func=print):\n",
    "        \"\"\"\n",
    "        Args:\n",
    "            patience (int): How long to wait after last time validation loss improved.\n",
    "                            Default: 7\n",
    "            verbose (bool): If True, prints a message for each validation loss improvement. \n",
    "                            Default: False\n",
    "            delta (float): Minimum change in the monitored quantity to qualify as an improvement.\n",
    "                            Default: 0\n",
    "            path (str): Path for the checkpoint to be saved to.\n",
    "                            Default: 'checkpoint.pt'\n",
    "            trace_func (function): trace print function.\n",
    "                            Default: print            \n",
    "        \"\"\"\n",
    "        self.patience = patience\n",
    "        self.verbose = verbose\n",
    "        self.counter = 0\n",
    "        self.best_score = None\n",
    "        self.early_stop = False\n",
    "        self.val_loss_min = np.Inf\n",
    "        self.delta = delta\n",
    "        self.path = path\n",
    "        self.trace_func = trace_func\n",
    "    def __call__(self, val_loss, model):\n",
    "\n",
    "        score = -val_loss\n",
    "\n",
    "        if self.best_score is None:\n",
    "            self.best_score = score\n",
    "            self.save_checkpoint(val_loss, model)\n",
    "        elif score < self.best_score + self.delta:\n",
    "            self.counter += 1\n",
    "            self.trace_func(f'EarlyStopping counter: {self.counter} out of {self.patience}')\n",
    "            if self.counter >= self.patience:\n",
    "                self.early_stop = True\n",
    "        else:\n",
    "            self.best_score = score\n",
    "            self.save_checkpoint(val_loss, model)\n",
    "            self.counter = 0\n",
    "\n",
    "    def save_checkpoint(self, val_loss, model):\n",
    "        '''Saves model when validation loss decrease.'''\n",
    "        if self.verbose:\n",
    "            self.trace_func(f'Validation loss decreased ({self.val_loss_min:.6f} --> {val_loss:.6f}).  Saving model ...')\n",
    "        torch.save(model.state_dict(), self.path)\n",
    "        self.val_loss_min = val_loss"
   ]
  },
  {
   "cell_type": "code",
   "execution_count": 480,
   "metadata": {},
   "outputs": [],
   "source": [
    "# calculate center after performing an initial forward pass.\n",
    "# center is calculated by the mean of normal instances embedding.\n",
    "model.eval()\n",
    "normal_embed = model(features, adj)[index_normal_train].detach().numpy()\n",
    "normal_embed = torch.FloatTensor(normal_embed)\n",
    "center = torch.mean(normal_embed,0)"
   ]
  },
  {
   "cell_type": "markdown",
   "metadata": {},
   "source": [
    "### Define the anomaly score function and loss functions as the paper:\n",
    "\n",
    "Objective function consists of two terms:\n",
    "\n",
    "- The first term (nor_loss) minimizes the volume of the hypersphere that encloses the node embeddings of normal instances.\n",
    "- The second term (AUC_loss) encourages the score of anomaly instances to be higher than those of normal instances.\n",
    "\n",
    "The anomaly score is defined for each node as the square Euclidean distance between the node embedding and the center c"
   ]
  },
  {
   "cell_type": "code",
   "execution_count": 482,
   "metadata": {},
   "outputs": [],
   "source": [
    "def anomaly_score(node_embedding, c):\n",
    "    # anomaly score of an instance is calculated by \n",
    "    # square Euclidean distance between the node embedding and the center c\n",
    "    return torch.sum((node_embedding - c) ** 2)\n",
    "\n",
    "def nor_loss(node_embedding_list, c):\n",
    "    # normal loss is calculated by mean squared Euclidian distance of \n",
    "    # the normal node embeddings to hypersphere center c \n",
    "    s = 0\n",
    "    num_node = node_embedding_list.size()[0]\n",
    "    for i in range(num_node):\n",
    "        s = s + anomaly_score(node_embedding_list[i], c)\n",
    "    return s/num_node\n",
    "\n",
    "def AUC_loss(anomaly_node_emb, normal_node_emb, c):\n",
    "    # AUC_loss encourages the score of anomaly instances to be higher than those of normal instances\n",
    "    s = 0\n",
    "    num_anomaly_node = anomaly_node_emb.size()[0]\n",
    "    num_normal_node = normal_node_emb.size()[0]\n",
    "    for i in range(num_anomaly_node):\n",
    "        for j in range(num_normal_node):\n",
    "            s1 = anomaly_score(anomaly_node_emb[i], c)\n",
    "            s2 = anomaly_score(normal_node_emb[j], c)\n",
    "            s = s + torch.sigmoid(s1 - s2)\n",
    "    return s/(num_anomaly_node * num_normal_node) # check devide by zero\n",
    "\n",
    "def objecttive_loss(anomaly_node_emb, normal_node_emb, c, regularizer=1):\n",
    "    Nloss = nor_loss(normal_node_emb, c)\n",
    "    AUCloss = AUC_loss(anomaly_node_emb, normal_node_emb, c)\n",
    "    loss = Nloss - regularizer * AUCloss\n",
    "    return loss"
   ]
  },
  {
   "cell_type": "markdown",
   "metadata": {},
   "source": [
    "hyperparameters:\n",
    "- Adam optimizer with learning rate = 0.001\n",
    "- Maximum number of epoch = 500\n",
    "- EarlyStopping of val_loss with patience = 20"
   ]
  },
  {
   "cell_type": "code",
   "execution_count": 483,
   "metadata": {},
   "outputs": [
    {
     "name": "stdout",
     "output_type": "stream",
     "text": [
      "Epoch: 0001 loss_train: -0.4041 loss_val: -0.4578 time: 0.5416s\n",
      "Validation loss decreased (inf --> -0.457818).  Saving model ...\n",
      "Epoch: 0002 loss_train: -0.4308 loss_val: -0.4628 time: 0.5523s\n",
      "Validation loss decreased (-0.457818 --> -0.462757).  Saving model ...\n",
      "Epoch: 0003 loss_train: -0.4538 loss_val: -0.4674 time: 0.5439s\n",
      "Validation loss decreased (-0.462757 --> -0.467390).  Saving model ...\n",
      "Epoch: 0004 loss_train: -0.4558 loss_val: -0.4714 time: 0.5344s\n",
      "Validation loss decreased (-0.467390 --> -0.471355).  Saving model ...\n",
      "Epoch: 0005 loss_train: -0.4610 loss_val: -0.4750 time: 0.5350s\n",
      "Validation loss decreased (-0.471355 --> -0.474969).  Saving model ...\n",
      "Epoch: 0006 loss_train: -0.4802 loss_val: -0.4789 time: 0.5337s\n",
      "Validation loss decreased (-0.474969 --> -0.478936).  Saving model ...\n",
      "Epoch: 0007 loss_train: -0.4915 loss_val: -0.4831 time: 0.3197s\n",
      "Validation loss decreased (-0.478936 --> -0.483094).  Saving model ...\n",
      "Epoch: 0008 loss_train: -0.5122 loss_val: -0.4874 time: 0.2705s\n",
      "Validation loss decreased (-0.483094 --> -0.487352).  Saving model ...\n",
      "Epoch: 0009 loss_train: -0.5219 loss_val: -0.4918 time: 0.2681s\n",
      "Validation loss decreased (-0.487352 --> -0.491801).  Saving model ...\n",
      "Epoch: 0010 loss_train: -0.5256 loss_val: -0.4963 time: 0.2768s\n",
      "Validation loss decreased (-0.491801 --> -0.496258).  Saving model ...\n",
      "Epoch: 0011 loss_train: -0.5275 loss_val: -0.5008 time: 0.2721s\n",
      "Validation loss decreased (-0.496258 --> -0.500757).  Saving model ...\n",
      "Epoch: 0012 loss_train: -0.5420 loss_val: -0.5054 time: 0.2742s\n",
      "Validation loss decreased (-0.500757 --> -0.505351).  Saving model ...\n",
      "Epoch: 0013 loss_train: -0.5540 loss_val: -0.5104 time: 0.2754s\n",
      "Validation loss decreased (-0.505351 --> -0.510365).  Saving model ...\n",
      "Epoch: 0014 loss_train: -0.6062 loss_val: -0.5157 time: 0.2733s\n",
      "Validation loss decreased (-0.510365 --> -0.515742).  Saving model ...\n",
      "Epoch: 0015 loss_train: -0.5894 loss_val: -0.5212 time: 0.4343s\n",
      "Validation loss decreased (-0.515742 --> -0.521167).  Saving model ...\n",
      "Epoch: 0016 loss_train: -0.6073 loss_val: -0.5267 time: 0.5425s\n",
      "Validation loss decreased (-0.521167 --> -0.526698).  Saving model ...\n",
      "Epoch: 0017 loss_train: -0.6112 loss_val: -0.5325 time: 0.5853s\n",
      "Validation loss decreased (-0.526698 --> -0.532485).  Saving model ...\n",
      "Epoch: 0018 loss_train: -0.6006 loss_val: -0.5382 time: 0.5598s\n",
      "Validation loss decreased (-0.532485 --> -0.538191).  Saving model ...\n",
      "Epoch: 0019 loss_train: -0.6525 loss_val: -0.5439 time: 0.5550s\n",
      "Validation loss decreased (-0.538191 --> -0.543892).  Saving model ...\n",
      "Epoch: 0020 loss_train: -0.6254 loss_val: -0.5500 time: 0.5337s\n",
      "Validation loss decreased (-0.543892 --> -0.549984).  Saving model ...\n",
      "Epoch: 0021 loss_train: -0.6629 loss_val: -0.5561 time: 0.5380s\n",
      "Validation loss decreased (-0.549984 --> -0.556134).  Saving model ...\n",
      "Epoch: 0022 loss_train: -0.6721 loss_val: -0.5619 time: 0.5445s\n",
      "Validation loss decreased (-0.556134 --> -0.561909).  Saving model ...\n",
      "Epoch: 0023 loss_train: -0.6523 loss_val: -0.5678 time: 0.5390s\n",
      "Validation loss decreased (-0.561909 --> -0.567781).  Saving model ...\n",
      "Epoch: 0024 loss_train: -0.7056 loss_val: -0.5729 time: 0.5386s\n",
      "Validation loss decreased (-0.567781 --> -0.572870).  Saving model ...\n",
      "Epoch: 0025 loss_train: -0.7094 loss_val: -0.5772 time: 0.5348s\n",
      "Validation loss decreased (-0.572870 --> -0.577186).  Saving model ...\n",
      "Epoch: 0026 loss_train: -0.6902 loss_val: -0.5808 time: 0.5436s\n",
      "Validation loss decreased (-0.577186 --> -0.580798).  Saving model ...\n",
      "Epoch: 0027 loss_train: -0.7489 loss_val: -0.5835 time: 0.5331s\n",
      "Validation loss decreased (-0.580798 --> -0.583476).  Saving model ...\n",
      "Epoch: 0028 loss_train: -0.7419 loss_val: -0.5853 time: 0.5370s\n",
      "Validation loss decreased (-0.583476 --> -0.585282).  Saving model ...\n",
      "Epoch: 0029 loss_train: -0.7183 loss_val: -0.5863 time: 0.5318s\n",
      "Validation loss decreased (-0.585282 --> -0.586301).  Saving model ...\n",
      "Epoch: 0030 loss_train: -0.7179 loss_val: -0.5868 time: 0.5317s\n",
      "Validation loss decreased (-0.586301 --> -0.586806).  Saving model ...\n",
      "Epoch: 0031 loss_train: -0.7840 loss_val: -0.5865 time: 0.5303s\n",
      "EarlyStopping counter: 1 out of 20\n",
      "Epoch: 0032 loss_train: -0.7509 loss_val: -0.5855 time: 0.5333s\n",
      "EarlyStopping counter: 2 out of 20\n",
      "Epoch: 0033 loss_train: -0.7975 loss_val: -0.5840 time: 0.5557s\n",
      "EarlyStopping counter: 3 out of 20\n",
      "Epoch: 0034 loss_train: -0.7957 loss_val: -0.5819 time: 0.5572s\n",
      "EarlyStopping counter: 4 out of 20\n",
      "Epoch: 0035 loss_train: -0.7983 loss_val: -0.5800 time: 0.5560s\n",
      "EarlyStopping counter: 5 out of 20\n",
      "Epoch: 0036 loss_train: -0.8014 loss_val: -0.5778 time: 0.5519s\n",
      "EarlyStopping counter: 6 out of 20\n",
      "Epoch: 0037 loss_train: -0.8160 loss_val: -0.5752 time: 0.5530s\n",
      "EarlyStopping counter: 7 out of 20\n",
      "Epoch: 0038 loss_train: -0.8370 loss_val: -0.5728 time: 0.3838s\n",
      "EarlyStopping counter: 8 out of 20\n",
      "Epoch: 0039 loss_train: -0.8265 loss_val: -0.5700 time: 0.2768s\n",
      "EarlyStopping counter: 9 out of 20\n",
      "Epoch: 0040 loss_train: -0.8687 loss_val: -0.5674 time: 0.2774s\n",
      "EarlyStopping counter: 10 out of 20\n",
      "Epoch: 0041 loss_train: -0.8305 loss_val: -0.5642 time: 0.2739s\n",
      "EarlyStopping counter: 11 out of 20\n",
      "Epoch: 0042 loss_train: -0.8672 loss_val: -0.5611 time: 0.2740s\n",
      "EarlyStopping counter: 12 out of 20\n",
      "Epoch: 0043 loss_train: -0.8814 loss_val: -0.5582 time: 0.2739s\n",
      "EarlyStopping counter: 13 out of 20\n",
      "Epoch: 0044 loss_train: -0.8924 loss_val: -0.5564 time: 0.2754s\n",
      "EarlyStopping counter: 14 out of 20\n",
      "Epoch: 0045 loss_train: -0.8719 loss_val: -0.5554 time: 0.2743s\n",
      "EarlyStopping counter: 15 out of 20\n",
      "Epoch: 0046 loss_train: -0.8652 loss_val: -0.5548 time: 0.3867s\n",
      "EarlyStopping counter: 16 out of 20\n",
      "Epoch: 0047 loss_train: -0.8868 loss_val: -0.5550 time: 0.5381s\n",
      "EarlyStopping counter: 17 out of 20\n",
      "Epoch: 0048 loss_train: -0.9147 loss_val: -0.5555 time: 0.5352s\n",
      "EarlyStopping counter: 18 out of 20\n",
      "Epoch: 0049 loss_train: -0.9018 loss_val: -0.5562 time: 0.5368s\n",
      "EarlyStopping counter: 19 out of 20\n",
      "Epoch: 0050 loss_train: -0.9082 loss_val: -0.5570 time: 0.5410s\n",
      "EarlyStopping counter: 20 out of 20\n",
      "Early stopping\n",
      "Optimization Finished!\n",
      "Total time elapsed: 22.8757s\n"
     ]
    }
   ],
   "source": [
    "# Train model\n",
    "EPOCH = 500\n",
    "t_total = time.time()\n",
    "train_losses = []\n",
    "val_losses = []\n",
    "AUC_regularizer = 1\n",
    "early_stopping = EarlyStopping(patience=20, verbose=True)\n",
    "\n",
    "for epoch in range(EPOCH):\n",
    "    t = time.time()\n",
    "    model.train()\n",
    "    optimizer.zero_grad() #\n",
    "    output = model(features, adj) #\n",
    "    loss_train = objecttive_loss(output[index_anomaly_train], output[index_normal_train], center, AUC_regularizer) #\n",
    "    loss_train.backward() #\n",
    "    optimizer.step() #\n",
    "    \n",
    "    # evaluate in val set\n",
    "    model.eval()\n",
    "    output = model(features, adj)\n",
    "    loss_val = objecttive_loss(output[index_anomaly_val], output[index_normal_val], center, AUC_regularizer) #\n",
    "    \n",
    "    train_losses.append(loss_train.detach().item())\n",
    "    val_losses.append(loss_val.detach().item())\n",
    "    \n",
    "    print('Epoch: {:04d}'.format(epoch+1),\n",
    "          'loss_train: {:.4f}'.format(loss_train.item()),\n",
    "          'loss_val: {:.4f}'.format(loss_val.item()),\n",
    "          'time: {:.4f}s'.format(time.time() - t))\n",
    "    \n",
    "    early_stopping(loss_val, model)\n",
    "        \n",
    "    if early_stopping.early_stop:\n",
    "        print(\"Early stopping\")\n",
    "        break\n",
    "\n",
    "\n",
    "print(\"Optimization Finished!\")\n",
    "print(\"Total time elapsed: {:.4f}s\".format(time.time() - t_total))\n",
    "\n",
    "# load the last checkpoint with the best model\n",
    "model.load_state_dict(torch.load('checkpoint.pt'))"
   ]
  },
  {
   "cell_type": "code",
   "execution_count": 484,
   "metadata": {},
   "outputs": [
    {
     "data": {
      "image/png": "[encoded data removed]",
      "text/plain": [
       "<Figure size 720x576 with 1 Axes>"
      ]
     },
     "metadata": {
      "needs_background": "light"
     },
     "output_type": "display_data"
    }
   ],
   "source": [
    "# visualize the loss as the network trained\n",
    "fig = plt.figure(figsize=(10,8))\n",
    "plt.plot(range(1,len(train_losses)+1),train_losses, label='Training Loss')\n",
    "plt.plot(range(1,len(val_losses)+1),val_losses,label='Validation Loss')\n",
    "\n",
    "# find position of lowest validation loss\n",
    "minposs = val_losses.index(min(val_losses))+1 \n",
    "plt.axvline(minposs, linestyle='--', color='r',label='Early Stopping Checkpoint')\n",
    "\n",
    "plt.xlabel('epochs')\n",
    "plt.ylabel('loss')\n",
    "plt.ylim(-1.0, 0.0) # consistent scale\n",
    "plt.xlim(0, len(train_losses)+1) # consistent scale\n",
    "plt.grid(True)\n",
    "plt.legend()\n",
    "plt.tight_layout()\n",
    "plt.show()\n",
    "fig.savefig('loss_plot.png', bbox_inches='tight')"
   ]
  },
  {
   "cell_type": "markdown",
   "metadata": {},
   "source": [
    "## Evaluate\n",
    "\n",
    "Plot ROC curve and calculate AUC score on the test set"
   ]
  },
  {
   "cell_type": "code",
   "execution_count": 485,
   "metadata": {},
   "outputs": [
    {
     "name": "stdout",
     "output_type": "stream",
     "text": [
      "AUC score on test set = 0.954248366013072\n"
     ]
    }
   ],
   "source": [
    "# label of anomaly and normal instances\n",
    "anomaly_labels = list(cat_labels[index_anomaly_test].numpy())\n",
    "normal_labels = list(cat_labels[index_normal_test].numpy())\n",
    "\n",
    "model.eval()\n",
    "# anomaly score of instances\n",
    "output = torch.FloatTensor(model(features, adj).detach().numpy())\n",
    "anomaly = output[index_anomaly_test]\n",
    "normal = output[index_normal_test]\n",
    "anomaly_s = []\n",
    "normal_s = []\n",
    "\n",
    "for i in range(anomaly.size()[0]):\n",
    "    anomaly_s.append(anomaly_score(anomaly[i], center).item())\n",
    "    \n",
    "for i in range(normal.size()[0]):\n",
    "    normal_s.append(anomaly_score(normal[i], center).item())\n",
    "\n",
    "\n",
    "labels = anomaly_labels + normal_labels\n",
    "scores = anomaly_s + normal_s\n",
    "\n",
    "# calculate roc_auc_score\n",
    "auc = roc_auc_score(labels, scores)\n",
    "print(\"AUC score on test set = {}\".format(auc))"
   ]
  },
  {
   "cell_type": "code",
   "execution_count": 486,
   "metadata": {},
   "outputs": [
    {
     "data": {
      "image/png": "[encoded data removed]",
      "text/plain": [
       "<Figure size 432x288 with 1 Axes>"
      ]
     },
     "metadata": {
      "needs_background": "light"
     },
     "output_type": "display_data"
    }
   ],
   "source": [
    "# plot roc curve\n",
    "fpr, tpr, thresholds = roc_curve(labels, scores)\n",
    "plt.plot(fpr, tpr, marker='.', label='GCN')\n",
    "# axis labels\n",
    "plt.xlabel('False Positive Rate')\n",
    "plt.ylabel('True Positive Rate')\n",
    "# show the legend\n",
    "plt.legend()\n",
    "# show the plot\n",
    "plt.show()"
   ]
  },
  {
   "cell_type": "markdown",
   "metadata": {},
   "source": [
    "## PCA and Visualize\n",
    "\n",
    "We use the PCA to reduce the dimention of embedding space that we can easily visualize the data.\n",
    "\n",
    "- Calculate covariance matrix of the data.\n",
    "- Perform eigen-decomposition of the covariance matrix then choose the top 2 of eigen values and correspond eigen vetors.\n",
    "- Project the origin data into the new plane formed by two pricipal eigen vetors."
   ]
  },
  {
   "cell_type": "code",
   "execution_count": 489,
   "metadata": {},
   "outputs": [],
   "source": [
    "from sklearn.preprocessing import StandardScaler\n",
    "\n",
    "# take pairs of embedd_vector and label\n",
    "model.eval()\n",
    "output = torch.FloatTensor(model(features, adj).detach().numpy())\n",
    "index = torch.cat([index_anomaly_train, index_anomaly_val, index_anomaly_test,\n",
    "                   index_normal_train, index_normal_val, index_normal_test])\n",
    "embedd_vectors = output[index]\n",
    "labels = cat_labels[index]\n",
    "\n",
    "# add the centers into embedd_vectors (we also want to visualize centers) and assign centers as label 2\n",
    "embedd_vectors = torch.cat([embedd_vectors, torch.reshape(center,(1,-1)).type(torch.FloatTensor)], dim=0)\n",
    "labels = torch.cat([labels, 2 * torch.ones(1).type(torch.LongTensor)])\n",
    "\n",
    "# perform standardization\n",
    "standard_embedd_vectors = StandardScaler().fit_transform(embedd_vectors)"
   ]
  },
  {
   "cell_type": "code",
   "execution_count": 491,
   "metadata": {},
   "outputs": [
    {
     "data": {
      "text/plain": [
       "<matplotlib.axes._subplots.AxesSubplot at 0x7f1816458748>"
      ]
     },
     "execution_count": 491,
     "metadata": {},
     "output_type": "execute_result"
    },
    {
     "data": {
      "image/png": "[encoded data removed]",
      "text/plain": [
       "<Figure size 720x720 with 1 Axes>"
      ]
     },
     "metadata": {
      "needs_background": "light"
     },
     "output_type": "display_data"
    }
   ],
   "source": [
    "from sklearn import decomposition\n",
    "from scipy.linalg import eigh\n",
    "import seaborn as sns\n",
    "\n",
    "# pca = decomposition.PCA()\n",
    "# pca.n_components = 2\n",
    "# new_coordinates = pca.fit_transform(standard_embedd_vectors)\n",
    "\n",
    "# Calculate covariance matrix\n",
    "covar_matrix = (np.matmul(standard_embedd_vectors.T, standard_embedd_vectors))/standard_embedd_vectors.shape[0]\n",
    "\n",
    "# Perform eigen-decomposition and choose the top 2 of eigen values and correspond eigen vetors\n",
    "values, vectors = eigh(covar_matrix, eigvals=(30,31))\n",
    "\n",
    "# Projecting \n",
    "new_coordinates = np.matmul(standard_embedd_vectors, vectors)\n",
    "\n",
    "# visualize\n",
    "new_df = pd.DataFrame({'Feature1': new_coordinates[:, 0], 'Feature2': new_coordinates[:, 1], 'Label': labels})\n",
    "plt.figure(figsize=(10, 10))\n",
    "sns.scatterplot(data=new_df, x=\"Feature1\", y=\"Feature2\", hue=\"Label\", style=\"Label\", size=\"Label\", palette=\"deep\")"
   ]
  },
  {
   "cell_type": "markdown",
   "metadata": {},
   "source": [
    "### TSNE and Visualize"
   ]
  },
  {
   "cell_type": "code",
   "execution_count": 492,
   "metadata": {},
   "outputs": [],
   "source": [
    "from sklearn.manifold import TSNE\n",
    "tsne = TSNE(n_components=2)\n",
    "new_coordinates = tsne.fit_transform(standard_embedd_vectors)"
   ]
  },
  {
   "cell_type": "code",
   "execution_count": 493,
   "metadata": {},
   "outputs": [
    {
     "data": {
      "text/plain": [
       "<matplotlib.axes._subplots.AxesSubplot at 0x7f1812bf1390>"
      ]
     },
     "execution_count": 493,
     "metadata": {},
     "output_type": "execute_result"
    },
    {
     "data": {
      "image/png": "[encoded data removed]",
      "text/plain": [
       "<Figure size 720x720 with 1 Axes>"
      ]
     },
     "metadata": {
      "needs_background": "light"
     },
     "output_type": "display_data"
    }
   ],
   "source": [
    "# visualize\n",
    "new_df = pd.DataFrame({'Feature1': new_coordinates[:, 0], 'Feature2': new_coordinates[:, 1], 'Label': labels})\n",
    "plt.figure(figsize=(10, 10))\n",
    "sns.scatterplot(data=new_df, x=\"Feature1\", y=\"Feature2\", hue=\"Label\", style=\"Label\", size=\"Label\", palette=\"deep\")"
   ]
  },
  {
   "cell_type": "markdown",
   "metadata": {},
   "source": [
    "Blue circle: normal instance.\n",
    "\n",
    "Orange cross: anomaly instance.\n",
    "\n",
    "Green square: Center."
   ]
  },
  {
   "cell_type": "markdown",
   "metadata": {},
   "source": [
    "### Evaluate the average test AUC\n",
    "We randomly generated ten training/validation/testing datasets and evaluated the average test AUC over 10 sets.\n",
    "\n",
    "we run manually 10 times and save the results, then calculate the average test AUC."
   ]
  },
  {
   "cell_type": "code",
   "execution_count": 494,
   "metadata": {},
   "outputs": [
    {
     "name": "stdout",
     "output_type": "stream",
     "text": [
      "AUC mean = 0.8791\n",
      "AUC std = 0.1411\n"
     ]
    }
   ],
   "source": [
    "AUC_scores = [0.6274, 0.9477, 0.9869, 0.6013, 0.9477, 1.0, 0.9542, 0.8954, 1.0, 0.8300]\n",
    "print(\"AUC mean = {:.4f}\".format(np.mean(AUC_scores)))\n",
    "print(\"AUC std = {:.4f}\".format(np.std(AUC_scores)))"
   ]
  },
  {
   "cell_type": "code",
   "execution_count": null,
   "metadata": {},
   "outputs": [],
   "source": []
  }
 ],
 "metadata": {
  "kernelspec": {
   "display_name": "Python 3",
   "language": "python",
   "name": "python3"
  },
  "language_info": {
   "codemirror_mode": {
    "name": "ipython",
    "version": 3
   },
   "file_extension": ".py",
   "mimetype": "text/x-python",
   "name": "python",
   "nbconvert_exporter": "python",
   "pygments_lexer": "ipython3",
   "version": "3.6.9"
  }
 },
 "nbformat": 4,
 "nbformat_minor": 2
}
